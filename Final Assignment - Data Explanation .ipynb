{
    "cells": [
        {
            "cell_type": "markdown",
            "metadata": {},
            "source": "### Final Assignment: To get the severity of the accident - Dataset Explanation\n\n**DATASET:** The dataset I have used to predict the severity of the collistion is the data on Seattle city shared in the Capstone project. The data includes all types of collisions and the timeframe is from 2004 to Present.\n\n**TOTAL VARIABLES:** The initial data has **36 Predictor Variables** and one Target Variable which is **SEVERITY CODE** The dataset contains data on accident which took place, severity of it and the values of various parameters at the time of accident.\n\nThe variables are in the format: Variable Name- Description (Type)\n\n1. OBJECTID - ESRI unique identifier (Object ID)\n2. SHAPE - ESRI geometry field (Geometry)\n3. INCKEY - A unique key for the incident (Long)\n4. COLDETKEY - Secondary key for the incident (Long)\n5. ADDRTYPE - Collision address type (Text, 12) - Can be one of (Alley, Block, Intersection)\n6. INTKEY - Key that corresponds to the intersection associated with a collision (Double)\n7. LOCATION - Description of the general location of the collision (Text, 255)\n8. SEVERITYCODE -A code that corresponds to the severity of the collision (Text, 100) - Can be one of (1,2)\n9. SEVERITYDESC - A detailed description of the severity of the collision (Text)\n10.\tEXCEPTRSNCODE - (Text , 10)\n11.\tEXCEPTRSNDESC - (Text , 300)\n12.\tCOLLISIONTYPE - Collision type (Text, 300)\n13.\tPERSONCOUNT - The total number of people involved in the collision (Double)\n14.\tPEDCOUNT - The number of pedestrians involved in the collision. (Double)\n15.\tPEDCYLCOUNT - The number of bicycles involved in the collision. (Double)\n16.\tVEHCOUNT - The number of vehicles involved in the collision. (Double)\n17.\tINJURIES - The number of total injuries in the collision. (Double) \n18.\tSERIOUSINJURIES - The number of serious injuries in the collision. (Double)\n19.\tFATALITIES - The number of fatalities in the collision. (Double) \n20.\tINCDATE - The date of the incident.(Date)\n21.\tINCDTTM - The date and time of the incident.(Text, 30)\n22.\tJUNCTIONTYPE - Category of junction at which collision took place (Text, 300)\n23.\tSDOT_COLCODE - A code given to the collision by SDOT.(Text,10) \n24.\tSDOT_COLDESC - A description of the collision corresponding to the collision code.(Text,300)\n25.\tINATTENTIONIND - Whether or not collision was due to inattention.(Y/N)(Text, 1)\n26.\tUNDERINFL - Whether or not a driver involved was under the influence of drugs or alcohol. (Text, 10)\n27.\tWEATHER - A description of the weather conditions during the time of the collision.(Text, 300)\n28.\tROADCOND - The condition of the road during the collision.(Text, 300)\n29.\tLIGHTCOND - The light conditions during the collision.(Text, 300)\n30.\tPEDROWNOTGRNT - Whether or not the pedestrian right of way was not granted. (Y/N) (Text, 1)\n31.\tSDOTCOLNUM - A number given to the collision by SDOT.(Text, 10)\n32.\tSPEEDING - Whether or not speeding was a factor in the collision. (Y/N) (Text, 1)\n33.\tST_COLCODE - A code provided by the state that describes the collision. (Text, 10)\n34.\tST_COLDESC - A description that corresponds to the state\u2019s coding designation.(Text 300)\n35.\tSEGLANEKEY - A key for the lane segment in which the collision occurred.(Long)\n36.\tCROSSWALKKEY - A key for the crosswalk at which the collision occurred.(Long)\n37.\tHITPARKEDCAR - Whether or not the collision involved hitting a parked car. (Y/N) (Text, 1)  \n"
        },
        {
            "cell_type": "code",
            "execution_count": null,
            "metadata": {},
            "outputs": [],
            "source": ""
        }
    ],
    "metadata": {
        "kernelspec": {
            "display_name": "Python 3.6",
            "language": "python",
            "name": "python3"
        },
        "language_info": {
            "codemirror_mode": {
                "name": "ipython",
                "version": 3
            },
            "file_extension": ".py",
            "mimetype": "text/x-python",
            "name": "python",
            "nbconvert_exporter": "python",
            "pygments_lexer": "ipython3",
            "version": "3.6.9"
        }
    },
    "nbformat": 4,
    "nbformat_minor": 1
}