{
    "cells": [
        {
            "cell_type": "markdown",
            "metadata": {},
            "source": "### Problem Description - To predict the severity of the accidents\n\nHi Everyone, This is the Business Problem section for the final assignment.\n\n**PROBLEM:** If we are not aware of the weather conditions, road conditions, light conditions, traffic while travellig we can find ourselves in unfortunate situations which we would like to avoid. It is always good to have the above mentioned information and the other factors while traveling through which can predict the chances of getting into accident and the severity of it.\n\n**SOLUTION:** We can use the past data about the accidents happened given the various scenarios and use it to predict the likelyhood of the accidents on a given date with various conditions. I will analyse the given past data to find the right predictor variable which will predict the target variable in the efficient way and can be used as a model to predict the severity of accidents."
        },
        {
            "cell_type": "code",
            "execution_count": null,
            "metadata": {},
            "outputs": [],
            "source": ""
        }
    ],
    "metadata": {
        "kernelspec": {
            "display_name": "Python 3.6",
            "language": "python",
            "name": "python3"
        },
        "language_info": {
            "codemirror_mode": {
                "name": "ipython",
                "version": 3
            },
            "file_extension": ".py",
            "mimetype": "text/x-python",
            "name": "python",
            "nbconvert_exporter": "python",
            "pygments_lexer": "ipython3",
            "version": "3.6.9"
        }
    },
    "nbformat": 4,
    "nbformat_minor": 1
}