{
    "cells": [
        {
            "cell_type": "markdown",
            "metadata": {
                "collapsed": true
            },
            "source": "###  Hi Everyone, \n\nThis is the data analysis section of the traffic data to get the chances and the severity of the accident given various parameters like weather condition, road condition, light condition etc. \n\nIn this section we take the entire data set and then prepare the final data set from it by removing the not so relevant columns and by taking care of the missing data. \n\nThe dataframe for this data is 'df' and the data file is taken from the course material"
        },
        {
            "cell_type": "code",
            "execution_count": 1,
            "metadata": {},
            "outputs": [],
            "source": "#Importing the libraries\nimport numpy as np\nimport pandas as pd\nimport matplotlib.pyplot as plt\nimport seaborn as sns\n%matplotlib inline\nimport itertools"
        },
        {
            "cell_type": "code",
            "execution_count": 2,
            "metadata": {},
            "outputs": [
                {
                    "name": "stderr",
                    "output_type": "stream",
                    "text": "/opt/conda/envs/Python36/lib/python3.6/site-packages/IPython/core/interactiveshell.py:3020: DtypeWarning: Columns (33) have mixed types. Specify dtype option on import or set low_memory=False.\n  interactivity=interactivity, compiler=compiler, result=result)\n"
                }
            ],
            "source": "# The code was removed by Watson Studio for sharing."
        },
        {
            "cell_type": "markdown",
            "metadata": {},
            "source": "### Infomration on DataSet\n\n**TOTAL VARIABLES:** The initial data has 36 Predictor Variables and one Target Variable which is SEVERITY CODE The dataset contains data on accident which took place, severity (This column is coming twice in the data) of it and the values of various parameters at the time of accident.\n\nThe variables are in the format: Variable Name- Description (Type)\n\n1.\tSEVERITYCODE - A code that corresponds to the severity of the collision (Text, 100) - Can be one of (1,2)\n2.\tX - Coordinates(Double)\n3.\tY - Coordinates(Double)\n4.\tOBJECTID - ESRI unique identifier (Int)\n5.\tINCKEY - A unique key for the incident (Int)\n6.\tCOLDETKEY - Secondary key for the incident (Int)\n7.\tREPORTNO - Number of the report (Int)\n8.\tSTATUS - One of (Matched, Unmatched) (Text)\n9.\tADDRTYPE - Collision address type (Text, 12) - Can be one of (Alley, Block, Intersection)\n10.\tINTKEY - Key that corresponds to the intersection associated with a collision (Double)\n11.\tLOCATION - Description of the general location of the collision (Text, 255)\n12.\tEXCEPTRSNCODE - (Text , 10)\n13.\tEXCEPTRSNDESC - (Text , 300)\n14.\tSEVERITYCODE.1 - A code that corresponds to the severity of the collision (Text, 100) - Can be one of (1,2)\n15.\tSEVERITYDESC - A detailed description of the severity of the collision (Text)\n16.\tCOLLISIONTYPE - Collision type (Text, 300)\n17.\tPERSONCOUNT - The total number of people involved in the collision (Double\n18.\tPEDCOUNT - The number of pedestrians involved in the collision. (Double\n19.\tPEDCYLCOUNT - The number of bicycles involved in the collision. (Double)\n20.\tVEHCOUNT - The number of vehicles involved in the collision. (Double)\n21.\tINCDATE - The date of the incident.(Date)\n22.\tINCDTTM - The date and time of the incident.(Text, 30)\n23.\tJUNCTIONTYPE - Category of junction at which collision took place (Text, 300)\n24.\tSDOT_COLCODE  - A code given to the collision by SDOT.(Text,10) \n25.\tSDOT_COLDESC - A description of the collision corresponding to the collision code.(Text,300\n26.\tINATTENTIONIND - Whether or not collision was due to inattention.(Y/N)(Text, 1)\n27.\tUNDERINFL - Whether or not a driver involved was under the influence of drugs or alcohol. (Text, 10)\n28.\tWEATHER - A description of the weather conditions during the time of the collision.(Text, 300\n29.\tROADCOND - The condition of the road during the collision.(Text, 300)\n30.\tLIGHTCOND - The light conditions during the collision.(Text, 300)\n31.\tPEDROWNOTGRNT - Whether or not the pedestrian right of way was not granted. (Y/N) (Text, 1)\n32.\tSDOTCOLNUM - A number given to the collision by SDOT.(Text, 10\n33.\tSPEEDING - Whether or not speeding was a factor in the collision. (Y/N) (Text, 1)\n34.\tST_COLCODE - A code provided by the state that describes the collision. (Text, 10)\n35.\tST_COLDESC - A description that corresponds to the state\u2019s coding designation.(Text 300)\n36.\tSEGLANEKEY - A key for the lane segment in which the collision occurred.(Long)\n37.\tCROSSWALKKEY - A key for the crosswalk at which the collision occurred.(Long)\n38.\tHITPARKEDCAR - Whether or not the collision involved hitting a parked car. (Y/N) (Text, 1)  "
        },
        {
            "cell_type": "code",
            "execution_count": 3,
            "metadata": {},
            "outputs": [
                {
                    "data": {
                        "text/html": "<div>\n<style scoped>\n    .dataframe tbody tr th:only-of-type {\n        vertical-align: middle;\n    }\n\n    .dataframe tbody tr th {\n        vertical-align: top;\n    }\n\n    .dataframe thead th {\n        text-align: right;\n    }\n</style>\n<table border=\"1\" class=\"dataframe\">\n  <thead>\n    <tr style=\"text-align: right;\">\n      <th></th>\n      <th>SEVERITYCODE</th>\n      <th>X</th>\n      <th>Y</th>\n      <th>OBJECTID</th>\n      <th>INCKEY</th>\n      <th>COLDETKEY</th>\n      <th>REPORTNO</th>\n      <th>STATUS</th>\n      <th>ADDRTYPE</th>\n      <th>INTKEY</th>\n      <th>...</th>\n      <th>ROADCOND</th>\n      <th>LIGHTCOND</th>\n      <th>PEDROWNOTGRNT</th>\n      <th>SDOTCOLNUM</th>\n      <th>SPEEDING</th>\n      <th>ST_COLCODE</th>\n      <th>ST_COLDESC</th>\n      <th>SEGLANEKEY</th>\n      <th>CROSSWALKKEY</th>\n      <th>HITPARKEDCAR</th>\n    </tr>\n  </thead>\n  <tbody>\n    <tr>\n      <th>0</th>\n      <td>2</td>\n      <td>-122.323148</td>\n      <td>47.703140</td>\n      <td>1</td>\n      <td>1307</td>\n      <td>1307</td>\n      <td>3502005</td>\n      <td>Matched</td>\n      <td>Intersection</td>\n      <td>37475.0</td>\n      <td>...</td>\n      <td>Wet</td>\n      <td>Daylight</td>\n      <td>NaN</td>\n      <td>NaN</td>\n      <td>NaN</td>\n      <td>10</td>\n      <td>Entering at angle</td>\n      <td>0</td>\n      <td>0</td>\n      <td>N</td>\n    </tr>\n    <tr>\n      <th>1</th>\n      <td>1</td>\n      <td>-122.347294</td>\n      <td>47.647172</td>\n      <td>2</td>\n      <td>52200</td>\n      <td>52200</td>\n      <td>2607959</td>\n      <td>Matched</td>\n      <td>Block</td>\n      <td>NaN</td>\n      <td>...</td>\n      <td>Wet</td>\n      <td>Dark - Street Lights On</td>\n      <td>NaN</td>\n      <td>6354039.0</td>\n      <td>NaN</td>\n      <td>11</td>\n      <td>From same direction - both going straight - bo...</td>\n      <td>0</td>\n      <td>0</td>\n      <td>N</td>\n    </tr>\n    <tr>\n      <th>2</th>\n      <td>1</td>\n      <td>-122.334540</td>\n      <td>47.607871</td>\n      <td>3</td>\n      <td>26700</td>\n      <td>26700</td>\n      <td>1482393</td>\n      <td>Matched</td>\n      <td>Block</td>\n      <td>NaN</td>\n      <td>...</td>\n      <td>Dry</td>\n      <td>Daylight</td>\n      <td>NaN</td>\n      <td>4323031.0</td>\n      <td>NaN</td>\n      <td>32</td>\n      <td>One parked--one moving</td>\n      <td>0</td>\n      <td>0</td>\n      <td>N</td>\n    </tr>\n  </tbody>\n</table>\n<p>3 rows \u00d7 38 columns</p>\n</div>",
                        "text/plain": "   SEVERITYCODE           X          Y  OBJECTID  INCKEY  COLDETKEY REPORTNO  \\\n0             2 -122.323148  47.703140         1    1307       1307  3502005   \n1             1 -122.347294  47.647172         2   52200      52200  2607959   \n2             1 -122.334540  47.607871         3   26700      26700  1482393   \n\n    STATUS      ADDRTYPE   INTKEY  ... ROADCOND                LIGHTCOND  \\\n0  Matched  Intersection  37475.0  ...      Wet                 Daylight   \n1  Matched         Block      NaN  ...      Wet  Dark - Street Lights On   \n2  Matched         Block      NaN  ...      Dry                 Daylight   \n\n  PEDROWNOTGRNT  SDOTCOLNUM SPEEDING ST_COLCODE  \\\n0           NaN         NaN      NaN         10   \n1           NaN   6354039.0      NaN         11   \n2           NaN   4323031.0      NaN         32   \n\n                                          ST_COLDESC  SEGLANEKEY  \\\n0                                  Entering at angle           0   \n1  From same direction - both going straight - bo...           0   \n2                             One parked--one moving           0   \n\n   CROSSWALKKEY  HITPARKEDCAR  \n0             0             N  \n1             0             N  \n2             0             N  \n\n[3 rows x 38 columns]"
                    },
                    "execution_count": 3,
                    "metadata": {},
                    "output_type": "execute_result"
                }
            ],
            "source": "df.head(3)"
        },
        {
            "cell_type": "code",
            "execution_count": 4,
            "metadata": {},
            "outputs": [
                {
                    "data": {
                        "text/plain": "(194673, 38)"
                    },
                    "execution_count": 4,
                    "metadata": {},
                    "output_type": "execute_result"
                }
            ],
            "source": "df.shape"
        },
        {
            "cell_type": "code",
            "execution_count": 67,
            "metadata": {},
            "outputs": [],
            "source": "dfnew = df"
        },
        {
            "cell_type": "markdown",
            "metadata": {},
            "source": "As we can see from the data that some of the columns are not required for the analysis of data. \nSo we try to analyze these columns and will delete them if they are not relevant"
        },
        {
            "cell_type": "markdown",
            "metadata": {},
            "source": " - Remove columsn which are just IDs, Numbers and Keys, so we can remove them - OBJECTID, INCKEY, INTKEY, COLDETKEY, REPORTNO, STATUS, SEGLANEKEY, CROSSWALKKEY \n - Remove columsn which are infomation given - ST_COLCODE, SDOT_COLDESC, SDOT_COLCODE, ST_COLDESC, SDOTCOLNUM\n - Remove column SEVERITYCODE.1  as it is the duplication of the first column SEVERITYCODE\n - Remove column  SEVERITYDESC - It is just a detailed description of the severity of the collision\n - Remove columns EXCEPTRSNCODE and EXCEPTRSNDESC as not enough information is given in the columns \n - Other columns to be removed are -  PERSONCOUNT, PEDCOUNT, PEDCYLCOUNT, VEHCOUNT as this data changes on a continous basis and we can not predict that at the time of collision how many vehicles or persons will be there\n - Remove column - X, Y, LOCATION as this is most probably differnt for every collision  \n - Other columns which are not relevnant where the information available is less than 15% - PEDROWNOTGRNT, SPEEDING, INATTENTIONIND \n - For column - **HITPARKEDCAR** the count of 'N':'Y' is (187,457:7,216) thus this is very unbalance parameter and should be removed "
        },
        {
            "cell_type": "code",
            "execution_count": 68,
            "metadata": {},
            "outputs": [],
            "source": "dfnew = dfnew.drop(['OBJECTID', 'INCKEY', 'INTKEY','COLDETKEY', 'REPORTNO', 'STATUS', 'SEGLANEKEY', 'CROSSWALKKEY'], axis = 1)\ndfnew = dfnew.drop(['ST_COLCODE', 'SDOT_COLDESC', 'SDOT_COLCODE', 'ST_COLDESC', 'SDOTCOLNUM'], axis = 1) \ndfnew = dfnew.drop(['SEVERITYCODE.1','SEVERITYDESC','EXCEPTRSNCODE','EXCEPTRSNDESC'], axis = 1) \ndfnew = dfnew.drop(['PERSONCOUNT', 'PEDCOUNT', 'PEDCYLCOUNT', 'VEHCOUNT'], axis = 1) \ndfnew = dfnew.drop(['X', 'Y', 'LOCATION'], axis = 1) \ndfnew = dfnew.drop(['PEDROWNOTGRNT', 'SPEEDING', 'INATTENTIONIND'], axis = 1) \ndfnew = dfnew.drop(['HITPARKEDCAR'], axis = 1) \n"
        },
        {
            "cell_type": "code",
            "execution_count": 69,
            "metadata": {},
            "outputs": [
                {
                    "data": {
                        "text/plain": "Index(['SEVERITYCODE', 'ADDRTYPE', 'COLLISIONTYPE', 'INCDATE', 'INCDTTM',\n       'JUNCTIONTYPE', 'UNDERINFL', 'WEATHER', 'ROADCOND', 'LIGHTCOND'],\n      dtype='object')"
                    },
                    "execution_count": 69,
                    "metadata": {},
                    "output_type": "execute_result"
                }
            ],
            "source": "dfnew.columns"
        },
        {
            "cell_type": "markdown",
            "metadata": {},
            "source": "#### Convert columns 'INCDATE' and 'INCDTTM' to date time object"
        },
        {
            "cell_type": "markdown",
            "metadata": {},
            "source": "\n"
        },
        {
            "cell_type": "code",
            "execution_count": 70,
            "metadata": {},
            "outputs": [],
            "source": "dfnew['INCDATE'] = pd.to_datetime(df['INCDATE'])\ndfnew['INCDTTM'] = pd.to_datetime(df['INCDTTM'])"
        },
        {
            "cell_type": "code",
            "execution_count": 71,
            "metadata": {},
            "outputs": [
                {
                    "data": {
                        "text/html": "<div>\n<style scoped>\n    .dataframe tbody tr th:only-of-type {\n        vertical-align: middle;\n    }\n\n    .dataframe tbody tr th {\n        vertical-align: top;\n    }\n\n    .dataframe thead th {\n        text-align: right;\n    }\n</style>\n<table border=\"1\" class=\"dataframe\">\n  <thead>\n    <tr style=\"text-align: right;\">\n      <th></th>\n      <th>SEVERITYCODE</th>\n      <th>ADDRTYPE</th>\n      <th>COLLISIONTYPE</th>\n      <th>INCDATE</th>\n      <th>INCDTTM</th>\n      <th>JUNCTIONTYPE</th>\n      <th>UNDERINFL</th>\n      <th>WEATHER</th>\n      <th>ROADCOND</th>\n      <th>LIGHTCOND</th>\n    </tr>\n  </thead>\n  <tbody>\n    <tr>\n      <th>0</th>\n      <td>2</td>\n      <td>Intersection</td>\n      <td>Angles</td>\n      <td>2013-03-27 00:00:00+00:00</td>\n      <td>2013-03-27 14:54:00</td>\n      <td>At Intersection (intersection related)</td>\n      <td>N</td>\n      <td>Overcast</td>\n      <td>Wet</td>\n      <td>Daylight</td>\n    </tr>\n    <tr>\n      <th>1</th>\n      <td>1</td>\n      <td>Block</td>\n      <td>Sideswipe</td>\n      <td>2006-12-20 00:00:00+00:00</td>\n      <td>2006-12-20 18:55:00</td>\n      <td>Mid-Block (not related to intersection)</td>\n      <td>0</td>\n      <td>Raining</td>\n      <td>Wet</td>\n      <td>Dark - Street Lights On</td>\n    </tr>\n    <tr>\n      <th>2</th>\n      <td>1</td>\n      <td>Block</td>\n      <td>Parked Car</td>\n      <td>2004-11-18 00:00:00+00:00</td>\n      <td>2004-11-18 10:20:00</td>\n      <td>Mid-Block (not related to intersection)</td>\n      <td>0</td>\n      <td>Overcast</td>\n      <td>Dry</td>\n      <td>Daylight</td>\n    </tr>\n    <tr>\n      <th>3</th>\n      <td>1</td>\n      <td>Block</td>\n      <td>Other</td>\n      <td>2013-03-29 00:00:00+00:00</td>\n      <td>2013-03-29 09:26:00</td>\n      <td>Mid-Block (not related to intersection)</td>\n      <td>N</td>\n      <td>Clear</td>\n      <td>Dry</td>\n      <td>Daylight</td>\n    </tr>\n    <tr>\n      <th>4</th>\n      <td>2</td>\n      <td>Intersection</td>\n      <td>Angles</td>\n      <td>2004-01-28 00:00:00+00:00</td>\n      <td>2004-01-28 08:04:00</td>\n      <td>At Intersection (intersection related)</td>\n      <td>0</td>\n      <td>Raining</td>\n      <td>Wet</td>\n      <td>Daylight</td>\n    </tr>\n  </tbody>\n</table>\n</div>",
                        "text/plain": "   SEVERITYCODE      ADDRTYPE COLLISIONTYPE                   INCDATE  \\\n0             2  Intersection        Angles 2013-03-27 00:00:00+00:00   \n1             1         Block     Sideswipe 2006-12-20 00:00:00+00:00   \n2             1         Block    Parked Car 2004-11-18 00:00:00+00:00   \n3             1         Block         Other 2013-03-29 00:00:00+00:00   \n4             2  Intersection        Angles 2004-01-28 00:00:00+00:00   \n\n              INCDTTM                             JUNCTIONTYPE UNDERINFL  \\\n0 2013-03-27 14:54:00   At Intersection (intersection related)         N   \n1 2006-12-20 18:55:00  Mid-Block (not related to intersection)         0   \n2 2004-11-18 10:20:00  Mid-Block (not related to intersection)         0   \n3 2013-03-29 09:26:00  Mid-Block (not related to intersection)         N   \n4 2004-01-28 08:04:00   At Intersection (intersection related)         0   \n\n    WEATHER ROADCOND                LIGHTCOND  \n0  Overcast      Wet                 Daylight  \n1   Raining      Wet  Dark - Street Lights On  \n2  Overcast      Dry                 Daylight  \n3     Clear      Dry                 Daylight  \n4   Raining      Wet                 Daylight  "
                    },
                    "execution_count": 71,
                    "metadata": {},
                    "output_type": "execute_result"
                }
            ],
            "source": "dfnew.head()"
        },
        {
            "cell_type": "markdown",
            "metadata": {},
            "source": "#### We can see that column **INCDATE** provide the same information as column **INCDTTM**, we should remove this column"
        },
        {
            "cell_type": "code",
            "execution_count": 72,
            "metadata": {},
            "outputs": [],
            "source": "dfnew = dfnew.drop(['INCDATE'], axis = 1) "
        },
        {
            "cell_type": "code",
            "execution_count": 73,
            "metadata": {},
            "outputs": [
                {
                    "data": {
                        "text/html": "<div>\n<style scoped>\n    .dataframe tbody tr th:only-of-type {\n        vertical-align: middle;\n    }\n\n    .dataframe tbody tr th {\n        vertical-align: top;\n    }\n\n    .dataframe thead th {\n        text-align: right;\n    }\n</style>\n<table border=\"1\" class=\"dataframe\">\n  <thead>\n    <tr style=\"text-align: right;\">\n      <th></th>\n      <th>SEVERITYCODE</th>\n      <th>ADDRTYPE</th>\n      <th>COLLISIONTYPE</th>\n      <th>INCDTTM</th>\n      <th>JUNCTIONTYPE</th>\n      <th>UNDERINFL</th>\n      <th>WEATHER</th>\n      <th>ROADCOND</th>\n      <th>LIGHTCOND</th>\n    </tr>\n  </thead>\n  <tbody>\n    <tr>\n      <th>0</th>\n      <td>2</td>\n      <td>Intersection</td>\n      <td>Angles</td>\n      <td>2013-03-27 14:54:00</td>\n      <td>At Intersection (intersection related)</td>\n      <td>N</td>\n      <td>Overcast</td>\n      <td>Wet</td>\n      <td>Daylight</td>\n    </tr>\n    <tr>\n      <th>1</th>\n      <td>1</td>\n      <td>Block</td>\n      <td>Sideswipe</td>\n      <td>2006-12-20 18:55:00</td>\n      <td>Mid-Block (not related to intersection)</td>\n      <td>0</td>\n      <td>Raining</td>\n      <td>Wet</td>\n      <td>Dark - Street Lights On</td>\n    </tr>\n    <tr>\n      <th>2</th>\n      <td>1</td>\n      <td>Block</td>\n      <td>Parked Car</td>\n      <td>2004-11-18 10:20:00</td>\n      <td>Mid-Block (not related to intersection)</td>\n      <td>0</td>\n      <td>Overcast</td>\n      <td>Dry</td>\n      <td>Daylight</td>\n    </tr>\n    <tr>\n      <th>3</th>\n      <td>1</td>\n      <td>Block</td>\n      <td>Other</td>\n      <td>2013-03-29 09:26:00</td>\n      <td>Mid-Block (not related to intersection)</td>\n      <td>N</td>\n      <td>Clear</td>\n      <td>Dry</td>\n      <td>Daylight</td>\n    </tr>\n    <tr>\n      <th>4</th>\n      <td>2</td>\n      <td>Intersection</td>\n      <td>Angles</td>\n      <td>2004-01-28 08:04:00</td>\n      <td>At Intersection (intersection related)</td>\n      <td>0</td>\n      <td>Raining</td>\n      <td>Wet</td>\n      <td>Daylight</td>\n    </tr>\n  </tbody>\n</table>\n</div>",
                        "text/plain": "   SEVERITYCODE      ADDRTYPE COLLISIONTYPE             INCDTTM  \\\n0             2  Intersection        Angles 2013-03-27 14:54:00   \n1             1         Block     Sideswipe 2006-12-20 18:55:00   \n2             1         Block    Parked Car 2004-11-18 10:20:00   \n3             1         Block         Other 2013-03-29 09:26:00   \n4             2  Intersection        Angles 2004-01-28 08:04:00   \n\n                              JUNCTIONTYPE UNDERINFL   WEATHER ROADCOND  \\\n0   At Intersection (intersection related)         N  Overcast      Wet   \n1  Mid-Block (not related to intersection)         0   Raining      Wet   \n2  Mid-Block (not related to intersection)         0  Overcast      Dry   \n3  Mid-Block (not related to intersection)         N     Clear      Dry   \n4   At Intersection (intersection related)         0   Raining      Wet   \n\n                 LIGHTCOND  \n0                 Daylight  \n1  Dark - Street Lights On  \n2                 Daylight  \n3                 Daylight  \n4                 Daylight  "
                    },
                    "execution_count": 73,
                    "metadata": {},
                    "output_type": "execute_result"
                }
            ],
            "source": "dfnew.head()"
        },
        {
            "cell_type": "code",
            "execution_count": 74,
            "metadata": {},
            "outputs": [
                {
                    "data": {
                        "text/plain": "Clear                       0.586180\nRaining                     0.174823\nOvercast                    0.146177\nUnknown                     0.079597\nSnowing                     0.004784\nOther                       0.004388\nFog/Smog/Smoke              0.003001\nSleet/Hail/Freezing Rain    0.000596\nBlowing Sand/Dirt           0.000295\nSevere Crosswind            0.000132\nPartly Cloudy               0.000026\nName: WEATHER, dtype: float64"
                    },
                    "execution_count": 74,
                    "metadata": {},
                    "output_type": "execute_result"
                }
            ],
            "source": "df['WEATHER'].value_counts()/df['WEATHER'].count()"
        },
        {
            "cell_type": "code",
            "execution_count": 75,
            "metadata": {},
            "outputs": [
                {
                    "data": {
                        "text/plain": "Dry               0.656487\nWet               0.250310\nUnknown           0.079500\nIce               0.006375\nSnow/Slush        0.005294\nOther             0.000696\nStanding Water    0.000606\nSand/Mud/Dirt     0.000395\nOil               0.000337\nName: ROADCOND, dtype: float64"
                    },
                    "execution_count": 75,
                    "metadata": {},
                    "output_type": "execute_result"
                }
            ],
            "source": "df['ROADCOND'].value_counts()/df['ROADCOND'].count()"
        },
        {
            "cell_type": "code",
            "execution_count": 76,
            "metadata": {},
            "outputs": [
                {
                    "data": {
                        "text/plain": "Daylight                    0.612850\nDark - Street Lights On     0.255970\nUnknown                     0.071096\nDusk                        0.031145\nDawn                        0.013203\nDark - No Street Lights     0.008111\nDark - Street Lights Off    0.006327\nOther                       0.001240\nDark - Unknown Lighting     0.000058\nName: LIGHTCOND, dtype: float64"
                    },
                    "execution_count": 76,
                    "metadata": {},
                    "output_type": "execute_result"
                }
            ],
            "source": "df['LIGHTCOND'].value_counts()/df['LIGHTCOND'].count()"
        },
        {
            "cell_type": "markdown",
            "metadata": {},
            "source": "**Weather Column**: \nFour values 'Clear', 'Raining','Overcast', 'Unknown' make **99%** of total data\n\n**Road  Condition  Column**: \nThree values 'Wet', 'Dry','Unknown', make **98.5%** of total data\n\n**Light  Condition  Column**: \nFour values 'DayLight', 'Dark','Unknown','Dusk' make **98%** of total data\n\n\n**Unknown** is 8% of total 'Weather' data - Lets check what are the values of Road condition and Light condition when value of Weather is 'Unknown'"
        },
        {
            "cell_type": "code",
            "execution_count": 77,
            "metadata": {
                "scrolled": true
            },
            "outputs": [
                {
                    "data": {
                        "text/html": "<div>\n<style scoped>\n    .dataframe tbody tr th:only-of-type {\n        vertical-align: middle;\n    }\n\n    .dataframe tbody tr th {\n        vertical-align: top;\n    }\n\n    .dataframe thead th {\n        text-align: right;\n    }\n</style>\n<table border=\"1\" class=\"dataframe\">\n  <thead>\n    <tr style=\"text-align: right;\">\n      <th></th>\n      <th>ROADCOND</th>\n      <th>LIGHTCOND</th>\n    </tr>\n  </thead>\n  <tbody>\n    <tr>\n      <th>count</th>\n      <td>15080</td>\n      <td>15046</td>\n    </tr>\n    <tr>\n      <th>unique</th>\n      <td>9</td>\n      <td>8</td>\n    </tr>\n    <tr>\n      <th>top</th>\n      <td>Unknown</td>\n      <td>Unknown</td>\n    </tr>\n    <tr>\n      <th>freq</th>\n      <td>13611</td>\n      <td>10709</td>\n    </tr>\n  </tbody>\n</table>\n</div>",
                        "text/plain": "       ROADCOND LIGHTCOND\ncount     15080     15046\nunique        9         8\ntop     Unknown   Unknown\nfreq      13611     10709"
                    },
                    "execution_count": 77,
                    "metadata": {},
                    "output_type": "execute_result"
                }
            ],
            "source": "dfnew[dfnew['WEATHER']== 'Unknown'][['ROADCOND','LIGHTCOND']].describe()"
        },
        {
            "cell_type": "markdown",
            "metadata": {},
            "source": "We analysed that in the above column that when value of 'WEATHER' is 'Unknown':\n - 90% of times value of 'ROADCOND' is 'Unknown'\n - 70% of times value of 'LIGHTCOND' is 'Unknown'\n \n###### ** So we can remove all the rows for which values for '**WEATHER**' are '**Unknown**' as for most of these cases values in 'ROADCOND' and 'LIGHTCOND' will be '**Unknown**'\n\nAlso we can get dummy variables for these columns as: \n\n**Weather Column:** 'Clear', 'Raining','Overcast' \\\n**Road Condition Column:** 'Wet', 'Dry' \\\n**Light Condition Column:** DayLight', 'Dark'"
        },
        {
            "cell_type": "code",
            "execution_count": 78,
            "metadata": {},
            "outputs": [
                {
                    "name": "stdout",
                    "output_type": "stream",
                    "text": "Dataframe Shape after removing non relevant rows;  (156713, 9)\n"
                },
                {
                    "data": {
                        "text/html": "<div>\n<style scoped>\n    .dataframe tbody tr th:only-of-type {\n        vertical-align: middle;\n    }\n\n    .dataframe tbody tr th {\n        vertical-align: top;\n    }\n\n    .dataframe thead th {\n        text-align: right;\n    }\n</style>\n<table border=\"1\" class=\"dataframe\">\n  <thead>\n    <tr style=\"text-align: right;\">\n      <th></th>\n      <th>SEVERITYCODE</th>\n      <th>ADDRTYPE</th>\n      <th>COLLISIONTYPE</th>\n      <th>INCDTTM</th>\n      <th>JUNCTIONTYPE</th>\n      <th>UNDERINFL</th>\n      <th>WEATHER</th>\n      <th>ROADCOND</th>\n      <th>LIGHTCOND</th>\n    </tr>\n  </thead>\n  <tbody>\n    <tr>\n      <th>0</th>\n      <td>2</td>\n      <td>Intersection</td>\n      <td>Angles</td>\n      <td>2013-03-27 14:54:00</td>\n      <td>At Intersection (intersection related)</td>\n      <td>N</td>\n      <td>Overcast</td>\n      <td>Wet</td>\n      <td>Daylight</td>\n    </tr>\n    <tr>\n      <th>1</th>\n      <td>1</td>\n      <td>Block</td>\n      <td>Sideswipe</td>\n      <td>2006-12-20 18:55:00</td>\n      <td>Mid-Block (not related to intersection)</td>\n      <td>0</td>\n      <td>Raining</td>\n      <td>Wet</td>\n      <td>Dark - Street Lights On</td>\n    </tr>\n  </tbody>\n</table>\n</div>",
                        "text/plain": "   SEVERITYCODE      ADDRTYPE COLLISIONTYPE             INCDTTM  \\\n0             2  Intersection        Angles 2013-03-27 14:54:00   \n1             1         Block     Sideswipe 2006-12-20 18:55:00   \n\n                              JUNCTIONTYPE UNDERINFL   WEATHER ROADCOND  \\\n0   At Intersection (intersection related)         N  Overcast      Wet   \n1  Mid-Block (not related to intersection)         0   Raining      Wet   \n\n                 LIGHTCOND  \n0                 Daylight  \n1  Dark - Street Lights On  "
                    },
                    "execution_count": 78,
                    "metadata": {},
                    "output_type": "execute_result"
                }
            ],
            "source": "dfnew = dfnew[(dfnew['WEATHER']== 'Clear') | (dfnew['WEATHER']==  'Raining') | (dfnew['WEATHER']== 'Overcast')]\ndfnew = dfnew[(dfnew['ROADCOND'] == 'Wet') | (dfnew['ROADCOND'] == 'Dry')]\ndfnew = dfnew[(dfnew['LIGHTCOND'] == 'Daylight') | (dfnew['LIGHTCOND'] == 'Dark - Street Lights On')]\nNewShape = dfnew.shape\nprint(\"Dataframe Shape after removing non relevant rows; \",NewShape)\ndfnew.head(2)"
        },
        {
            "cell_type": "code",
            "execution_count": 79,
            "metadata": {},
            "outputs": [
                {
                    "data": {
                        "text/plain": "Block           98565\nIntersection    57020\nAlley             501\nName: ADDRTYPE, dtype: int64"
                    },
                    "execution_count": 79,
                    "metadata": {},
                    "output_type": "execute_result"
                }
            ],
            "source": "dfnew['ADDRTYPE'].value_counts()"
        },
        {
            "cell_type": "markdown",
            "metadata": {},
            "source": "###### There will be two dummy variables for 'ADDRTYPE' - 'Block', 'Intersection' and we should remove the rows with value 'Alley'"
        },
        {
            "cell_type": "code",
            "execution_count": 80,
            "metadata": {},
            "outputs": [
                {
                    "name": "stdout",
                    "output_type": "stream",
                    "text": "Dataframe Shape after removing non relevant rows;  (155585, 9)\n"
                }
            ],
            "source": "dfnew = dfnew[(dfnew['ADDRTYPE'] == 'Block') | (dfnew['ADDRTYPE'] == 'Intersection')]\nNewShape1 = dfnew.shape\nprint(\"Dataframe Shape after removing non relevant rows; \",NewShape1)"
        },
        {
            "cell_type": "code",
            "execution_count": 81,
            "metadata": {},
            "outputs": [
                {
                    "data": {
                        "text/plain": "Angles        31433\nRear Ended    30330\nParked Car    30163\nOther         19788\nSideswipe     16406\nLeft Turn     12479\nPedestrian     5790\nCycles         4824\nRight Turn     2651\nHead On        1708\nName: COLLISIONTYPE, dtype: int64"
                    },
                    "execution_count": 81,
                    "metadata": {},
                    "output_type": "execute_result"
                }
            ],
            "source": "dfnew['COLLISIONTYPE'].value_counts()"
        },
        {
            "cell_type": "markdown",
            "metadata": {},
            "source": "###### As we can see the data is fairly distributed among the 10 values of column - '**COLLISIONTYPE**' - we should delete this column"
        },
        {
            "cell_type": "code",
            "execution_count": 82,
            "metadata": {},
            "outputs": [],
            "source": "dfnew = dfnew.drop(['COLLISIONTYPE'], axis = 1) "
        },
        {
            "cell_type": "code",
            "execution_count": 83,
            "metadata": {},
            "outputs": [
                {
                    "data": {
                        "text/plain": "Mid-Block (not related to intersection)              68289\nAt Intersection (intersection related)               55257\nMid-Block (but intersection related)                 19613\nDriveway Junction                                     9241\nAt Intersection (but not related to intersection)     1670\nRamp Junction                                          136\nUnknown                                                  3\nName: JUNCTIONTYPE, dtype: int64"
                    },
                    "execution_count": 83,
                    "metadata": {},
                    "output_type": "execute_result"
                }
            ],
            "source": "dfnew['JUNCTIONTYPE'].value_counts()"
        },
        {
            "cell_type": "markdown",
            "metadata": {},
            "source": "###### We can remove the column 'JUNCTIONTYPE' as it is fairly distributed with lot of values and it is given detail information of what is given in column 'ADDRTYPE'"
        },
        {
            "cell_type": "code",
            "execution_count": 84,
            "metadata": {},
            "outputs": [],
            "source": "dfnew = dfnew.drop(['JUNCTIONTYPE'], axis = 1) "
        },
        {
            "cell_type": "code",
            "execution_count": 85,
            "metadata": {},
            "outputs": [
                {
                    "data": {
                        "text/plain": "(155585, 7)"
                    },
                    "execution_count": 85,
                    "metadata": {},
                    "output_type": "execute_result"
                }
            ],
            "source": "dfnew.shape"
        },
        {
            "cell_type": "markdown",
            "metadata": {},
            "source": "### Now we will convert the categorical values in numeric value by using ONE HOT ENCODING"
        },
        {
            "cell_type": "code",
            "execution_count": 86,
            "metadata": {},
            "outputs": [
                {
                    "data": {
                        "text/html": "<div>\n<style scoped>\n    .dataframe tbody tr th:only-of-type {\n        vertical-align: middle;\n    }\n\n    .dataframe tbody tr th {\n        vertical-align: top;\n    }\n\n    .dataframe thead th {\n        text-align: right;\n    }\n</style>\n<table border=\"1\" class=\"dataframe\">\n  <thead>\n    <tr style=\"text-align: right;\">\n      <th></th>\n      <th>INCDTTM</th>\n      <th>UNDERINFL</th>\n    </tr>\n  </thead>\n  <tbody>\n    <tr>\n      <th>0</th>\n      <td>2013-03-27 14:54:00</td>\n      <td>N</td>\n    </tr>\n    <tr>\n      <th>1</th>\n      <td>2006-12-20 18:55:00</td>\n      <td>0</td>\n    </tr>\n    <tr>\n      <th>2</th>\n      <td>2004-11-18 10:20:00</td>\n      <td>0</td>\n    </tr>\n    <tr>\n      <th>3</th>\n      <td>2013-03-29 09:26:00</td>\n      <td>N</td>\n    </tr>\n    <tr>\n      <th>4</th>\n      <td>2004-01-28 08:04:00</td>\n      <td>0</td>\n    </tr>\n  </tbody>\n</table>\n</div>",
                        "text/plain": "              INCDTTM UNDERINFL\n0 2013-03-27 14:54:00         N\n1 2006-12-20 18:55:00         0\n2 2004-11-18 10:20:00         0\n3 2013-03-29 09:26:00         N\n4 2004-01-28 08:04:00         0"
                    },
                    "execution_count": 86,
                    "metadata": {},
                    "output_type": "execute_result"
                }
            ],
            "source": "# Lets call all the columns we going to use for final prediction as Feature\nFeature = dfnew[['INCDTTM', 'UNDERINFL']]\nFeature.head()"
        },
        {
            "cell_type": "code",
            "execution_count": 87,
            "metadata": {},
            "outputs": [
                {
                    "name": "stdout",
                    "output_type": "stream",
                    "text": "Index(['INCDTTM', 'UNDERINFL', 'Block', 'Intersection', 'Clear', 'Overcast',\n       'Raining', 'Dry', 'Wet', 'Dark - Street Lights On', 'Daylight'],\n      dtype='object')\n"
                },
                {
                    "data": {
                        "text/html": "<div>\n<style scoped>\n    .dataframe tbody tr th:only-of-type {\n        vertical-align: middle;\n    }\n\n    .dataframe tbody tr th {\n        vertical-align: top;\n    }\n\n    .dataframe thead th {\n        text-align: right;\n    }\n</style>\n<table border=\"1\" class=\"dataframe\">\n  <thead>\n    <tr style=\"text-align: right;\">\n      <th></th>\n      <th>INCDTTM</th>\n      <th>UNDERINFL</th>\n      <th>Block</th>\n      <th>Intersection</th>\n      <th>Clear</th>\n      <th>Overcast</th>\n      <th>Raining</th>\n      <th>Dry</th>\n      <th>Wet</th>\n      <th>Dark - Street Lights On</th>\n      <th>Daylight</th>\n    </tr>\n  </thead>\n  <tbody>\n    <tr>\n      <th>0</th>\n      <td>2013-03-27 14:54:00</td>\n      <td>N</td>\n      <td>0</td>\n      <td>1</td>\n      <td>0</td>\n      <td>1</td>\n      <td>0</td>\n      <td>0</td>\n      <td>1</td>\n      <td>0</td>\n      <td>1</td>\n    </tr>\n    <tr>\n      <th>1</th>\n      <td>2006-12-20 18:55:00</td>\n      <td>0</td>\n      <td>1</td>\n      <td>0</td>\n      <td>0</td>\n      <td>0</td>\n      <td>1</td>\n      <td>0</td>\n      <td>1</td>\n      <td>1</td>\n      <td>0</td>\n    </tr>\n    <tr>\n      <th>2</th>\n      <td>2004-11-18 10:20:00</td>\n      <td>0</td>\n      <td>1</td>\n      <td>0</td>\n      <td>0</td>\n      <td>1</td>\n      <td>0</td>\n      <td>1</td>\n      <td>0</td>\n      <td>0</td>\n      <td>1</td>\n    </tr>\n    <tr>\n      <th>3</th>\n      <td>2013-03-29 09:26:00</td>\n      <td>N</td>\n      <td>1</td>\n      <td>0</td>\n      <td>1</td>\n      <td>0</td>\n      <td>0</td>\n      <td>1</td>\n      <td>0</td>\n      <td>0</td>\n      <td>1</td>\n    </tr>\n    <tr>\n      <th>4</th>\n      <td>2004-01-28 08:04:00</td>\n      <td>0</td>\n      <td>0</td>\n      <td>1</td>\n      <td>0</td>\n      <td>0</td>\n      <td>1</td>\n      <td>0</td>\n      <td>1</td>\n      <td>0</td>\n      <td>1</td>\n    </tr>\n  </tbody>\n</table>\n</div>",
                        "text/plain": "              INCDTTM UNDERINFL  Block  Intersection  Clear  Overcast  \\\n0 2013-03-27 14:54:00         N      0             1      0         1   \n1 2006-12-20 18:55:00         0      1             0      0         0   \n2 2004-11-18 10:20:00         0      1             0      0         1   \n3 2013-03-29 09:26:00         N      1             0      1         0   \n4 2004-01-28 08:04:00         0      0             1      0         0   \n\n   Raining  Dry  Wet  Dark - Street Lights On  Daylight  \n0        0    0    1                        0         1  \n1        1    0    1                        1         0  \n2        0    1    0                        0         1  \n3        0    1    0                        0         1  \n4        1    0    1                        0         1  "
                    },
                    "execution_count": 87,
                    "metadata": {},
                    "output_type": "execute_result"
                }
            ],
            "source": "Feature = pd.concat([Feature,pd.get_dummies(dfnew['ADDRTYPE']), pd.get_dummies(dfnew['WEATHER']), pd.get_dummies(dfnew['ROADCOND']),pd.get_dummies(dfnew['LIGHTCOND'])], axis=1)\nprint(Feature.columns)\nFeature.head()"
        },
        {
            "cell_type": "code",
            "execution_count": 26,
            "metadata": {},
            "outputs": [
                {
                    "data": {
                        "text/html": "<div>\n<style scoped>\n    .dataframe tbody tr th:only-of-type {\n        vertical-align: middle;\n    }\n\n    .dataframe tbody tr th {\n        vertical-align: top;\n    }\n\n    .dataframe thead th {\n        text-align: right;\n    }\n</style>\n<table border=\"1\" class=\"dataframe\">\n  <thead>\n    <tr style=\"text-align: right;\">\n      <th></th>\n      <th>INCDTTM</th>\n      <th>UNDERINFL</th>\n      <th>Block</th>\n      <th>Intersection</th>\n      <th>Clear</th>\n      <th>Overcast</th>\n      <th>Raining</th>\n      <th>Dry</th>\n      <th>Wet</th>\n      <th>Dark</th>\n      <th>Daylight</th>\n    </tr>\n  </thead>\n  <tbody>\n    <tr>\n      <th>0</th>\n      <td>2013-03-27 14:54:00</td>\n      <td>N</td>\n      <td>0</td>\n      <td>1</td>\n      <td>0</td>\n      <td>1</td>\n      <td>0</td>\n      <td>0</td>\n      <td>1</td>\n      <td>0</td>\n      <td>1</td>\n    </tr>\n    <tr>\n      <th>1</th>\n      <td>2006-12-20 18:55:00</td>\n      <td>0</td>\n      <td>1</td>\n      <td>0</td>\n      <td>0</td>\n      <td>0</td>\n      <td>1</td>\n      <td>0</td>\n      <td>1</td>\n      <td>1</td>\n      <td>0</td>\n    </tr>\n    <tr>\n      <th>2</th>\n      <td>2004-11-18 10:20:00</td>\n      <td>0</td>\n      <td>1</td>\n      <td>0</td>\n      <td>0</td>\n      <td>1</td>\n      <td>0</td>\n      <td>1</td>\n      <td>0</td>\n      <td>0</td>\n      <td>1</td>\n    </tr>\n    <tr>\n      <th>3</th>\n      <td>2013-03-29 09:26:00</td>\n      <td>N</td>\n      <td>1</td>\n      <td>0</td>\n      <td>1</td>\n      <td>0</td>\n      <td>0</td>\n      <td>1</td>\n      <td>0</td>\n      <td>0</td>\n      <td>1</td>\n    </tr>\n    <tr>\n      <th>4</th>\n      <td>2004-01-28 08:04:00</td>\n      <td>0</td>\n      <td>0</td>\n      <td>1</td>\n      <td>0</td>\n      <td>0</td>\n      <td>1</td>\n      <td>0</td>\n      <td>1</td>\n      <td>0</td>\n      <td>1</td>\n    </tr>\n  </tbody>\n</table>\n</div>",
                        "text/plain": "              INCDTTM UNDERINFL  Block  Intersection  Clear  Overcast  \\\n0 2013-03-27 14:54:00         N      0             1      0         1   \n1 2006-12-20 18:55:00         0      1             0      0         0   \n2 2004-11-18 10:20:00         0      1             0      0         1   \n3 2013-03-29 09:26:00         N      1             0      1         0   \n4 2004-01-28 08:04:00         0      0             1      0         0   \n\n   Raining  Dry  Wet  Dark  Daylight  \n0        0    0    1     0         1  \n1        1    0    1     1         0  \n2        0    1    0     0         1  \n3        0    1    0     0         1  \n4        1    0    1     0         1  "
                    },
                    "execution_count": 26,
                    "metadata": {},
                    "output_type": "execute_result"
                }
            ],
            "source": "Feature.rename(columns={\"Dark - Street Lights On\": \"Dark\"}, inplace = True)\nFeature.shape\nFeature.head()"
        },
        {
            "cell_type": "markdown",
            "metadata": {},
            "source": "## In the below section I am trying to see how the Month or Hour of the time is affection the severity of Accident"
        },
        {
            "cell_type": "code",
            "execution_count": 27,
            "metadata": {},
            "outputs": [
                {
                    "data": {
                        "text/html": "<div>\n<style scoped>\n    .dataframe tbody tr th:only-of-type {\n        vertical-align: middle;\n    }\n\n    .dataframe tbody tr th {\n        vertical-align: top;\n    }\n\n    .dataframe thead th {\n        text-align: right;\n    }\n</style>\n<table border=\"1\" class=\"dataframe\">\n  <thead>\n    <tr style=\"text-align: right;\">\n      <th></th>\n      <th>UNDERINFL</th>\n      <th>Block</th>\n      <th>Intersection</th>\n      <th>Clear</th>\n      <th>Overcast</th>\n      <th>Raining</th>\n      <th>Dry</th>\n      <th>Wet</th>\n      <th>Dark</th>\n      <th>Daylight</th>\n      <th>Month</th>\n      <th>Hour</th>\n    </tr>\n  </thead>\n  <tbody>\n    <tr>\n      <th>0</th>\n      <td>N</td>\n      <td>0</td>\n      <td>1</td>\n      <td>0</td>\n      <td>1</td>\n      <td>0</td>\n      <td>0</td>\n      <td>1</td>\n      <td>0</td>\n      <td>1</td>\n      <td>3</td>\n      <td>14</td>\n    </tr>\n    <tr>\n      <th>1</th>\n      <td>0</td>\n      <td>1</td>\n      <td>0</td>\n      <td>0</td>\n      <td>0</td>\n      <td>1</td>\n      <td>0</td>\n      <td>1</td>\n      <td>1</td>\n      <td>0</td>\n      <td>12</td>\n      <td>18</td>\n    </tr>\n    <tr>\n      <th>2</th>\n      <td>0</td>\n      <td>1</td>\n      <td>0</td>\n      <td>0</td>\n      <td>1</td>\n      <td>0</td>\n      <td>1</td>\n      <td>0</td>\n      <td>0</td>\n      <td>1</td>\n      <td>11</td>\n      <td>10</td>\n    </tr>\n    <tr>\n      <th>3</th>\n      <td>N</td>\n      <td>1</td>\n      <td>0</td>\n      <td>1</td>\n      <td>0</td>\n      <td>0</td>\n      <td>1</td>\n      <td>0</td>\n      <td>0</td>\n      <td>1</td>\n      <td>3</td>\n      <td>9</td>\n    </tr>\n    <tr>\n      <th>4</th>\n      <td>0</td>\n      <td>0</td>\n      <td>1</td>\n      <td>0</td>\n      <td>0</td>\n      <td>1</td>\n      <td>0</td>\n      <td>1</td>\n      <td>0</td>\n      <td>1</td>\n      <td>1</td>\n      <td>8</td>\n    </tr>\n  </tbody>\n</table>\n</div>",
                        "text/plain": "  UNDERINFL  Block  Intersection  Clear  Overcast  Raining  Dry  Wet  Dark  \\\n0         N      0             1      0         1        0    0    1     0   \n1         0      1             0      0         0        1    0    1     1   \n2         0      1             0      0         1        0    1    0     0   \n3         N      1             0      1         0        0    1    0     0   \n4         0      0             1      0         0        1    0    1     0   \n\n   Daylight  Month  Hour  \n0         1      3    14  \n1         0     12    18  \n2         1     11    10  \n3         1      3     9  \n4         1      1     8  "
                    },
                    "execution_count": 27,
                    "metadata": {},
                    "output_type": "execute_result"
                }
            ],
            "source": "Feature['Month'] = Feature['INCDTTM'].dt.month\nFeature['Hour'] = Feature['INCDTTM'].dt.hour\n\nFeature = Feature.drop(['INCDTTM'], axis =1)\nFeature.head()"
        },
        {
            "cell_type": "code",
            "execution_count": 28,
            "metadata": {},
            "outputs": [
                {
                    "data": {
                        "text/plain": "<matplotlib.axes._subplots.AxesSubplot at 0x7f47e8558a58>"
                    },
                    "execution_count": 28,
                    "metadata": {},
                    "output_type": "execute_result"
                },
                {
                    "data": {
                        "image/png": "[encoded data removed]",
                        "text/plain": "<Figure size 432x288 with 1 Axes>"
                    },
                    "metadata": {
                        "needs_background": "light"
                    },
                    "output_type": "display_data"
                }
            ],
            "source": "sns.countplot(x= 'Month', data = Feature)"
        },
        {
            "cell_type": "markdown",
            "metadata": {},
            "source": "#### As Column 'Month' is almost equally distributed, I will remove column 'Month'"
        },
        {
            "cell_type": "code",
            "execution_count": 29,
            "metadata": {},
            "outputs": [
                {
                    "data": {
                        "text/html": "<div>\n<style scoped>\n    .dataframe tbody tr th:only-of-type {\n        vertical-align: middle;\n    }\n\n    .dataframe tbody tr th {\n        vertical-align: top;\n    }\n\n    .dataframe thead th {\n        text-align: right;\n    }\n</style>\n<table border=\"1\" class=\"dataframe\">\n  <thead>\n    <tr style=\"text-align: right;\">\n      <th></th>\n      <th>UNDERINFL</th>\n      <th>Block</th>\n      <th>Intersection</th>\n      <th>Clear</th>\n      <th>Overcast</th>\n      <th>Raining</th>\n      <th>Dry</th>\n      <th>Wet</th>\n      <th>Dark</th>\n      <th>Daylight</th>\n      <th>Hour</th>\n    </tr>\n  </thead>\n  <tbody>\n    <tr>\n      <th>0</th>\n      <td>N</td>\n      <td>0</td>\n      <td>1</td>\n      <td>0</td>\n      <td>1</td>\n      <td>0</td>\n      <td>0</td>\n      <td>1</td>\n      <td>0</td>\n      <td>1</td>\n      <td>14</td>\n    </tr>\n    <tr>\n      <th>1</th>\n      <td>0</td>\n      <td>1</td>\n      <td>0</td>\n      <td>0</td>\n      <td>0</td>\n      <td>1</td>\n      <td>0</td>\n      <td>1</td>\n      <td>1</td>\n      <td>0</td>\n      <td>18</td>\n    </tr>\n    <tr>\n      <th>2</th>\n      <td>0</td>\n      <td>1</td>\n      <td>0</td>\n      <td>0</td>\n      <td>1</td>\n      <td>0</td>\n      <td>1</td>\n      <td>0</td>\n      <td>0</td>\n      <td>1</td>\n      <td>10</td>\n    </tr>\n    <tr>\n      <th>3</th>\n      <td>N</td>\n      <td>1</td>\n      <td>0</td>\n      <td>1</td>\n      <td>0</td>\n      <td>0</td>\n      <td>1</td>\n      <td>0</td>\n      <td>0</td>\n      <td>1</td>\n      <td>9</td>\n    </tr>\n    <tr>\n      <th>4</th>\n      <td>0</td>\n      <td>0</td>\n      <td>1</td>\n      <td>0</td>\n      <td>0</td>\n      <td>1</td>\n      <td>0</td>\n      <td>1</td>\n      <td>0</td>\n      <td>1</td>\n      <td>8</td>\n    </tr>\n  </tbody>\n</table>\n</div>",
                        "text/plain": "  UNDERINFL  Block  Intersection  Clear  Overcast  Raining  Dry  Wet  Dark  \\\n0         N      0             1      0         1        0    0    1     0   \n1         0      1             0      0         0        1    0    1     1   \n2         0      1             0      0         1        0    1    0     0   \n3         N      1             0      1         0        0    1    0     0   \n4         0      0             1      0         0        1    0    1     0   \n\n   Daylight  Hour  \n0         1    14  \n1         0    18  \n2         1    10  \n3         1     9  \n4         1     8  "
                    },
                    "execution_count": 29,
                    "metadata": {},
                    "output_type": "execute_result"
                }
            ],
            "source": "Feature = Feature.drop(['Month'], axis =1)\nFeature.head()"
        },
        {
            "cell_type": "code",
            "execution_count": 30,
            "metadata": {},
            "outputs": [
                {
                    "data": {
                        "text/plain": "<matplotlib.axes._subplots.AxesSubplot at 0x7f47e83fa358>"
                    },
                    "execution_count": 30,
                    "metadata": {},
                    "output_type": "execute_result"
                },
                {
                    "data": {
                        "image/png": "[encoded data removed]",
                        "text/plain": "<Figure size 432x288 with 1 Axes>"
                    },
                    "metadata": {
                        "needs_background": "light"
                    },
                    "output_type": "display_data"
                }
            ],
            "source": "sns.countplot(x= 'Hour', data = Feature)"
        },
        {
            "cell_type": "markdown",
            "metadata": {},
            "source": "#### For Column 'Hour' I will divide in three equal parts - 0 to 7, 8 to 15, 16 to 23"
        },
        {
            "cell_type": "code",
            "execution_count": 31,
            "metadata": {},
            "outputs": [
                {
                    "data": {
                        "text/html": "<div>\n<style scoped>\n    .dataframe tbody tr th:only-of-type {\n        vertical-align: middle;\n    }\n\n    .dataframe tbody tr th {\n        vertical-align: top;\n    }\n\n    .dataframe thead th {\n        text-align: right;\n    }\n</style>\n<table border=\"1\" class=\"dataframe\">\n  <thead>\n    <tr style=\"text-align: right;\">\n      <th></th>\n      <th>UNDERINFL</th>\n      <th>Block</th>\n      <th>Intersection</th>\n      <th>Clear</th>\n      <th>Overcast</th>\n      <th>Raining</th>\n      <th>Dry</th>\n      <th>Wet</th>\n      <th>Dark</th>\n      <th>Daylight</th>\n      <th>Hour</th>\n      <th>Hour(0-7)</th>\n    </tr>\n  </thead>\n  <tbody>\n    <tr>\n      <th>0</th>\n      <td>N</td>\n      <td>0</td>\n      <td>1</td>\n      <td>0</td>\n      <td>1</td>\n      <td>0</td>\n      <td>0</td>\n      <td>1</td>\n      <td>0</td>\n      <td>1</td>\n      <td>14</td>\n      <td>14</td>\n    </tr>\n    <tr>\n      <th>1</th>\n      <td>0</td>\n      <td>1</td>\n      <td>0</td>\n      <td>0</td>\n      <td>0</td>\n      <td>1</td>\n      <td>0</td>\n      <td>1</td>\n      <td>1</td>\n      <td>0</td>\n      <td>18</td>\n      <td>18</td>\n    </tr>\n    <tr>\n      <th>2</th>\n      <td>0</td>\n      <td>1</td>\n      <td>0</td>\n      <td>0</td>\n      <td>1</td>\n      <td>0</td>\n      <td>1</td>\n      <td>0</td>\n      <td>0</td>\n      <td>1</td>\n      <td>10</td>\n      <td>10</td>\n    </tr>\n    <tr>\n      <th>3</th>\n      <td>N</td>\n      <td>1</td>\n      <td>0</td>\n      <td>1</td>\n      <td>0</td>\n      <td>0</td>\n      <td>1</td>\n      <td>0</td>\n      <td>0</td>\n      <td>1</td>\n      <td>9</td>\n      <td>9</td>\n    </tr>\n    <tr>\n      <th>4</th>\n      <td>0</td>\n      <td>0</td>\n      <td>1</td>\n      <td>0</td>\n      <td>0</td>\n      <td>1</td>\n      <td>0</td>\n      <td>1</td>\n      <td>0</td>\n      <td>1</td>\n      <td>8</td>\n      <td>8</td>\n    </tr>\n  </tbody>\n</table>\n</div>",
                        "text/plain": "  UNDERINFL  Block  Intersection  Clear  Overcast  Raining  Dry  Wet  Dark  \\\n0         N      0             1      0         1        0    0    1     0   \n1         0      1             0      0         0        1    0    1     1   \n2         0      1             0      0         1        0    1    0     0   \n3         N      1             0      1         0        0    1    0     0   \n4         0      0             1      0         0        1    0    1     0   \n\n   Daylight  Hour  Hour(0-7)  \n0         1    14         14  \n1         0    18         18  \n2         1    10         10  \n3         1     9          9  \n4         1     8          8  "
                    },
                    "execution_count": 31,
                    "metadata": {},
                    "output_type": "execute_result"
                }
            ],
            "source": "Feature['Hour(0-7)'] = Feature['Hour']\nFeature.head()     "
        },
        {
            "cell_type": "code",
            "execution_count": 32,
            "metadata": {},
            "outputs": [],
            "source": "Feature['Hour(0-7)']= Feature['Hour'].apply(lambda x: 1 if (x<7)  else 0)\nFeature['Hour(16-23)']= Feature['Hour'].apply(lambda x: 1 if (x>15)  else 0)"
        },
        {
            "cell_type": "code",
            "execution_count": 33,
            "metadata": {},
            "outputs": [
                {
                    "data": {
                        "text/html": "<div>\n<style scoped>\n    .dataframe tbody tr th:only-of-type {\n        vertical-align: middle;\n    }\n\n    .dataframe tbody tr th {\n        vertical-align: top;\n    }\n\n    .dataframe thead th {\n        text-align: right;\n    }\n</style>\n<table border=\"1\" class=\"dataframe\">\n  <thead>\n    <tr style=\"text-align: right;\">\n      <th></th>\n      <th>UNDERINFL</th>\n      <th>Block</th>\n      <th>Intersection</th>\n      <th>Clear</th>\n      <th>Overcast</th>\n      <th>Raining</th>\n      <th>Dry</th>\n      <th>Wet</th>\n      <th>Dark</th>\n      <th>Daylight</th>\n      <th>Hour</th>\n      <th>Hour(0-7)</th>\n      <th>Hour(16-23)</th>\n    </tr>\n  </thead>\n  <tbody>\n    <tr>\n      <th>0</th>\n      <td>N</td>\n      <td>0</td>\n      <td>1</td>\n      <td>0</td>\n      <td>1</td>\n      <td>0</td>\n      <td>0</td>\n      <td>1</td>\n      <td>0</td>\n      <td>1</td>\n      <td>14</td>\n      <td>0</td>\n      <td>0</td>\n    </tr>\n    <tr>\n      <th>1</th>\n      <td>0</td>\n      <td>1</td>\n      <td>0</td>\n      <td>0</td>\n      <td>0</td>\n      <td>1</td>\n      <td>0</td>\n      <td>1</td>\n      <td>1</td>\n      <td>0</td>\n      <td>18</td>\n      <td>0</td>\n      <td>1</td>\n    </tr>\n    <tr>\n      <th>2</th>\n      <td>0</td>\n      <td>1</td>\n      <td>0</td>\n      <td>0</td>\n      <td>1</td>\n      <td>0</td>\n      <td>1</td>\n      <td>0</td>\n      <td>0</td>\n      <td>1</td>\n      <td>10</td>\n      <td>0</td>\n      <td>0</td>\n    </tr>\n    <tr>\n      <th>3</th>\n      <td>N</td>\n      <td>1</td>\n      <td>0</td>\n      <td>1</td>\n      <td>0</td>\n      <td>0</td>\n      <td>1</td>\n      <td>0</td>\n      <td>0</td>\n      <td>1</td>\n      <td>9</td>\n      <td>0</td>\n      <td>0</td>\n    </tr>\n    <tr>\n      <th>4</th>\n      <td>0</td>\n      <td>0</td>\n      <td>1</td>\n      <td>0</td>\n      <td>0</td>\n      <td>1</td>\n      <td>0</td>\n      <td>1</td>\n      <td>0</td>\n      <td>1</td>\n      <td>8</td>\n      <td>0</td>\n      <td>0</td>\n    </tr>\n    <tr>\n      <th>5</th>\n      <td>N</td>\n      <td>0</td>\n      <td>1</td>\n      <td>1</td>\n      <td>0</td>\n      <td>0</td>\n      <td>1</td>\n      <td>0</td>\n      <td>0</td>\n      <td>1</td>\n      <td>17</td>\n      <td>0</td>\n      <td>1</td>\n    </tr>\n    <tr>\n      <th>6</th>\n      <td>0</td>\n      <td>0</td>\n      <td>1</td>\n      <td>0</td>\n      <td>0</td>\n      <td>1</td>\n      <td>0</td>\n      <td>1</td>\n      <td>0</td>\n      <td>1</td>\n      <td>0</td>\n      <td>1</td>\n      <td>0</td>\n    </tr>\n    <tr>\n      <th>7</th>\n      <td>N</td>\n      <td>0</td>\n      <td>1</td>\n      <td>1</td>\n      <td>0</td>\n      <td>0</td>\n      <td>1</td>\n      <td>0</td>\n      <td>0</td>\n      <td>1</td>\n      <td>17</td>\n      <td>0</td>\n      <td>1</td>\n    </tr>\n    <tr>\n      <th>8</th>\n      <td>0</td>\n      <td>1</td>\n      <td>0</td>\n      <td>1</td>\n      <td>0</td>\n      <td>0</td>\n      <td>1</td>\n      <td>0</td>\n      <td>0</td>\n      <td>1</td>\n      <td>13</td>\n      <td>0</td>\n      <td>0</td>\n    </tr>\n    <tr>\n      <th>9</th>\n      <td>0</td>\n      <td>0</td>\n      <td>1</td>\n      <td>1</td>\n      <td>0</td>\n      <td>0</td>\n      <td>1</td>\n      <td>0</td>\n      <td>0</td>\n      <td>1</td>\n      <td>15</td>\n      <td>0</td>\n      <td>0</td>\n    </tr>\n  </tbody>\n</table>\n</div>",
                        "text/plain": "  UNDERINFL  Block  Intersection  Clear  Overcast  Raining  Dry  Wet  Dark  \\\n0         N      0             1      0         1        0    0    1     0   \n1         0      1             0      0         0        1    0    1     1   \n2         0      1             0      0         1        0    1    0     0   \n3         N      1             0      1         0        0    1    0     0   \n4         0      0             1      0         0        1    0    1     0   \n5         N      0             1      1         0        0    1    0     0   \n6         0      0             1      0         0        1    0    1     0   \n7         N      0             1      1         0        0    1    0     0   \n8         0      1             0      1         0        0    1    0     0   \n9         0      0             1      1         0        0    1    0     0   \n\n   Daylight  Hour  Hour(0-7)  Hour(16-23)  \n0         1    14          0            0  \n1         0    18          0            1  \n2         1    10          0            0  \n3         1     9          0            0  \n4         1     8          0            0  \n5         1    17          0            1  \n6         1     0          1            0  \n7         1    17          0            1  \n8         1    13          0            0  \n9         1    15          0            0  "
                    },
                    "execution_count": 33,
                    "metadata": {},
                    "output_type": "execute_result"
                }
            ],
            "source": "Feature.head(10)           "
        },
        {
            "cell_type": "code",
            "execution_count": 34,
            "metadata": {},
            "outputs": [
                {
                    "data": {
                        "text/plain": "N    82412\n0    64984\nY     4568\n1     3621\nName: UNDERINFL, dtype: int64"
                    },
                    "execution_count": 34,
                    "metadata": {},
                    "output_type": "execute_result"
                }
            ],
            "source": "Feature['UNDERINFL'].value_counts()"
        },
        {
            "cell_type": "markdown",
            "metadata": {},
            "source": "#### Lastly for column 'UNDERINFL' 95% of values are either 'N' or '0' and as no information is there about the meaning of parameter with value '0', I am removing this column"
        },
        {
            "cell_type": "code",
            "execution_count": 35,
            "metadata": {},
            "outputs": [
                {
                    "data": {
                        "text/html": "<div>\n<style scoped>\n    .dataframe tbody tr th:only-of-type {\n        vertical-align: middle;\n    }\n\n    .dataframe tbody tr th {\n        vertical-align: top;\n    }\n\n    .dataframe thead th {\n        text-align: right;\n    }\n</style>\n<table border=\"1\" class=\"dataframe\">\n  <thead>\n    <tr style=\"text-align: right;\">\n      <th></th>\n      <th>Block</th>\n      <th>Intersection</th>\n      <th>Clear</th>\n      <th>Overcast</th>\n      <th>Raining</th>\n      <th>Dry</th>\n      <th>Wet</th>\n      <th>Dark</th>\n      <th>Daylight</th>\n      <th>Hour</th>\n      <th>Hour(0-7)</th>\n      <th>Hour(16-23)</th>\n    </tr>\n  </thead>\n  <tbody>\n    <tr>\n      <th>0</th>\n      <td>0</td>\n      <td>1</td>\n      <td>0</td>\n      <td>1</td>\n      <td>0</td>\n      <td>0</td>\n      <td>1</td>\n      <td>0</td>\n      <td>1</td>\n      <td>14</td>\n      <td>0</td>\n      <td>0</td>\n    </tr>\n    <tr>\n      <th>1</th>\n      <td>1</td>\n      <td>0</td>\n      <td>0</td>\n      <td>0</td>\n      <td>1</td>\n      <td>0</td>\n      <td>1</td>\n      <td>1</td>\n      <td>0</td>\n      <td>18</td>\n      <td>0</td>\n      <td>1</td>\n    </tr>\n    <tr>\n      <th>2</th>\n      <td>1</td>\n      <td>0</td>\n      <td>0</td>\n      <td>1</td>\n      <td>0</td>\n      <td>1</td>\n      <td>0</td>\n      <td>0</td>\n      <td>1</td>\n      <td>10</td>\n      <td>0</td>\n      <td>0</td>\n    </tr>\n    <tr>\n      <th>3</th>\n      <td>1</td>\n      <td>0</td>\n      <td>1</td>\n      <td>0</td>\n      <td>0</td>\n      <td>1</td>\n      <td>0</td>\n      <td>0</td>\n      <td>1</td>\n      <td>9</td>\n      <td>0</td>\n      <td>0</td>\n    </tr>\n    <tr>\n      <th>4</th>\n      <td>0</td>\n      <td>1</td>\n      <td>0</td>\n      <td>0</td>\n      <td>1</td>\n      <td>0</td>\n      <td>1</td>\n      <td>0</td>\n      <td>1</td>\n      <td>8</td>\n      <td>0</td>\n      <td>0</td>\n    </tr>\n  </tbody>\n</table>\n</div>",
                        "text/plain": "   Block  Intersection  Clear  Overcast  Raining  Dry  Wet  Dark  Daylight  \\\n0      0             1      0         1        0    0    1     0         1   \n1      1             0      0         0        1    0    1     1         0   \n2      1             0      0         1        0    1    0     0         1   \n3      1             0      1         0        0    1    0     0         1   \n4      0             1      0         0        1    0    1     0         1   \n\n   Hour  Hour(0-7)  Hour(16-23)  \n0    14          0            0  \n1    18          0            1  \n2    10          0            0  \n3     9          0            0  \n4     8          0            0  "
                    },
                    "execution_count": 35,
                    "metadata": {},
                    "output_type": "execute_result"
                }
            ],
            "source": "Feature = Feature.drop(['UNDERINFL'], axis =1)\nFeature.head()"
        },
        {
            "cell_type": "markdown",
            "metadata": {},
            "source": "### Feature selection\n###### Lets defind feature sets, X:"
        },
        {
            "cell_type": "code",
            "execution_count": 36,
            "metadata": {},
            "outputs": [
                {
                    "name": "stdout",
                    "output_type": "stream",
                    "text": "(155585, 12)\n"
                },
                {
                    "data": {
                        "text/html": "<div>\n<style scoped>\n    .dataframe tbody tr th:only-of-type {\n        vertical-align: middle;\n    }\n\n    .dataframe tbody tr th {\n        vertical-align: top;\n    }\n\n    .dataframe thead th {\n        text-align: right;\n    }\n</style>\n<table border=\"1\" class=\"dataframe\">\n  <thead>\n    <tr style=\"text-align: right;\">\n      <th></th>\n      <th>Block</th>\n      <th>Intersection</th>\n      <th>Clear</th>\n      <th>Overcast</th>\n      <th>Raining</th>\n      <th>Dry</th>\n      <th>Wet</th>\n      <th>Dark</th>\n      <th>Daylight</th>\n      <th>Hour</th>\n      <th>Hour(0-7)</th>\n      <th>Hour(16-23)</th>\n    </tr>\n  </thead>\n  <tbody>\n    <tr>\n      <th>0</th>\n      <td>0</td>\n      <td>1</td>\n      <td>0</td>\n      <td>1</td>\n      <td>0</td>\n      <td>0</td>\n      <td>1</td>\n      <td>0</td>\n      <td>1</td>\n      <td>14</td>\n      <td>0</td>\n      <td>0</td>\n    </tr>\n    <tr>\n      <th>1</th>\n      <td>1</td>\n      <td>0</td>\n      <td>0</td>\n      <td>0</td>\n      <td>1</td>\n      <td>0</td>\n      <td>1</td>\n      <td>1</td>\n      <td>0</td>\n      <td>18</td>\n      <td>0</td>\n      <td>1</td>\n    </tr>\n    <tr>\n      <th>2</th>\n      <td>1</td>\n      <td>0</td>\n      <td>0</td>\n      <td>1</td>\n      <td>0</td>\n      <td>1</td>\n      <td>0</td>\n      <td>0</td>\n      <td>1</td>\n      <td>10</td>\n      <td>0</td>\n      <td>0</td>\n    </tr>\n    <tr>\n      <th>3</th>\n      <td>1</td>\n      <td>0</td>\n      <td>1</td>\n      <td>0</td>\n      <td>0</td>\n      <td>1</td>\n      <td>0</td>\n      <td>0</td>\n      <td>1</td>\n      <td>9</td>\n      <td>0</td>\n      <td>0</td>\n    </tr>\n    <tr>\n      <th>4</th>\n      <td>0</td>\n      <td>1</td>\n      <td>0</td>\n      <td>0</td>\n      <td>1</td>\n      <td>0</td>\n      <td>1</td>\n      <td>0</td>\n      <td>1</td>\n      <td>8</td>\n      <td>0</td>\n      <td>0</td>\n    </tr>\n  </tbody>\n</table>\n</div>",
                        "text/plain": "   Block  Intersection  Clear  Overcast  Raining  Dry  Wet  Dark  Daylight  \\\n0      0             1      0         1        0    0    1     0         1   \n1      1             0      0         0        1    0    1     1         0   \n2      1             0      0         1        0    1    0     0         1   \n3      1             0      1         0        0    1    0     0         1   \n4      0             1      0         0        1    0    1     0         1   \n\n   Hour  Hour(0-7)  Hour(16-23)  \n0    14          0            0  \n1    18          0            1  \n2    10          0            0  \n3     9          0            0  \n4     8          0            0  "
                    },
                    "execution_count": 36,
                    "metadata": {},
                    "output_type": "execute_result"
                }
            ],
            "source": "X = Feature\nprint(X.shape)\nX[0:5]"
        },
        {
            "cell_type": "markdown",
            "metadata": {},
            "source": "### Target Value as y"
        },
        {
            "cell_type": "code",
            "execution_count": 37,
            "metadata": {},
            "outputs": [
                {
                    "name": "stdout",
                    "output_type": "stream",
                    "text": "(155585,)\n"
                },
                {
                    "data": {
                        "text/plain": "array([2, 1, 1, 1, 2])"
                    },
                    "execution_count": 37,
                    "metadata": {},
                    "output_type": "execute_result"
                }
            ],
            "source": "y = dfnew['SEVERITYCODE'].values\nprint(y.shape)\ny[0:5]"
        },
        {
            "cell_type": "markdown",
            "metadata": {},
            "source": "### Normalize Data\n###### Data Standardization give data zero mean and unit variance"
        },
        {
            "cell_type": "code",
            "execution_count": 38,
            "metadata": {},
            "outputs": [
                {
                    "name": "stderr",
                    "output_type": "stream",
                    "text": "/opt/conda/envs/Python36/lib/python3.6/site-packages/sklearn/preprocessing/data.py:645: DataConversionWarning: Data with input dtype uint8, int64 were all converted to float64 by StandardScaler.\n  return self.partial_fit(X, y)\n/opt/conda/envs/Python36/lib/python3.6/site-packages/ipykernel/__main__.py:2: DataConversionWarning: Data with input dtype uint8, int64 were all converted to float64 by StandardScaler.\n  from ipykernel import kernelapp as app\n"
                },
                {
                    "data": {
                        "text/plain": "array([[-1.31476386,  1.31476386, -1.37462903,  2.32817035, -0.48481608,\n        -1.64697814,  1.64697814, -0.63908502,  0.63908502,  0.37193303,\n        -0.53479634, -0.69189592],\n       [ 0.76059286, -0.76059286, -1.37462903, -0.42952183,  2.06263784,\n        -1.64697814,  1.64697814,  1.56473703, -1.56473703,  0.95862513,\n        -0.53479634,  1.44530408],\n       [ 0.76059286, -0.76059286, -1.37462903,  2.32817035, -0.48481608,\n         0.6071726 , -0.6071726 , -0.63908502,  0.63908502, -0.21475906,\n        -0.53479634, -0.69189592],\n       [ 0.76059286, -0.76059286,  0.727469  , -0.42952183, -0.48481608,\n         0.6071726 , -0.6071726 , -0.63908502,  0.63908502, -0.36143208,\n        -0.53479634, -0.69189592],\n       [-1.31476386,  1.31476386, -1.37462903, -0.42952183,  2.06263784,\n        -1.64697814,  1.64697814, -0.63908502,  0.63908502, -0.5081051 ,\n        -0.53479634, -0.69189592]])"
                    },
                    "execution_count": 38,
                    "metadata": {},
                    "output_type": "execute_result"
                }
            ],
            "source": "from sklearn import preprocessing\nX = preprocessing.StandardScaler().fit(X).transform(X)\nX[0:5]"
        },
        {
            "cell_type": "markdown",
            "metadata": {},
            "source": "### Classification:\n\n### 1. K Nearest Neighbor(KNN)"
        },
        {
            "cell_type": "code",
            "execution_count": 39,
            "metadata": {},
            "outputs": [
                {
                    "name": "stdout",
                    "output_type": "stream",
                    "text": "Train set: (108909, 12) (108909,)\nTest set: (46676, 12) (46676,)\n"
                }
            ],
            "source": "# We split the X into train and test to find the best k\nfrom sklearn.model_selection import train_test_split\nX_train, X_test, y_train, y_test = train_test_split(X, y, test_size=0.3, random_state=4)\nprint ('Train set:', X_train.shape,  y_train.shape)\nprint ('Test set:', X_test.shape,  y_test.shape)"
        },
        {
            "cell_type": "code",
            "execution_count": 40,
            "metadata": {},
            "outputs": [],
            "source": "# Modeling\nfrom sklearn.neighbors import KNeighborsClassifier"
        },
        {
            "cell_type": "code",
            "execution_count": 41,
            "metadata": {},
            "outputs": [
                {
                    "name": "stdout",
                    "output_type": "stream",
                    "text": "The best accuracy was with 0.6462207558488302 with k= 8\n"
                }
            ],
            "source": "# Best k\nfrom sklearn import metrics\nKs=10\nmean_acc=np.zeros((Ks-1))\nstd_acc=np.zeros((Ks-1))\nConfustionMx=[];\nfor n in range(1,Ks):\n    \n    #Train Model and Predict  \n    kNN_model = KNeighborsClassifier(n_neighbors=n).fit(X_train,y_train)\n    yhat = kNN_model.predict(X_test)\n        \n    mean_acc[n-1]=metrics.accuracy_score(y_test, yhat)\n    #std_acc[n-1]=np.std(yhat==y_test)/np.sqrt(yhat.shape[0])\n\nprint( \"The best accuracy was with\", mean_acc.max(), \"with k=\", mean_acc.argmax()+1) "
        },
        {
            "cell_type": "code",
            "execution_count": 42,
            "metadata": {},
            "outputs": [
                {
                    "name": "stdout",
                    "output_type": "stream",
                    "text": "KNN Jaccard index: 0.65\nKNN F1-score: 0.58\n"
                }
            ],
            "source": "from sklearn.metrics import jaccard_similarity_score\nfrom sklearn.metrics import f1_score\nfrom sklearn.metrics import log_loss\n# Building the model again, using k=7\n#Train Model and Predict  \nkNN_model = KNeighborsClassifier(n_neighbors=mean_acc.argmax()+1).fit(X_train,y_train)\nyhat = kNN_model.predict(X_test)\n\nprint(\"KNN Jaccard index: %.2f\" % jaccard_similarity_score(y_test, yhat))\nprint(\"KNN F1-score: %.2f\" % f1_score(y_test, yhat, average='weighted') )"
        },
        {
            "cell_type": "markdown",
            "metadata": {},
            "source": "### 2. Decision Tree"
        },
        {
            "cell_type": "code",
            "execution_count": 43,
            "metadata": {},
            "outputs": [
                {
                    "data": {
                        "text/plain": "DecisionTreeClassifier(class_weight=None, criterion='entropy', max_depth=4,\n            max_features=None, max_leaf_nodes=None,\n            min_impurity_decrease=0.0, min_impurity_split=None,\n            min_samples_leaf=1, min_samples_split=2,\n            min_weight_fraction_leaf=0.0, presort=False, random_state=None,\n            splitter='best')"
                    },
                    "execution_count": 43,
                    "metadata": {},
                    "output_type": "execute_result"
                }
            ],
            "source": "from sklearn.tree import DecisionTreeClassifier\nDT_model = DecisionTreeClassifier(criterion=\"entropy\", max_depth = 4)\nDT_model.fit(X_train,y_train)\nDT_model"
        },
        {
            "cell_type": "code",
            "execution_count": 44,
            "metadata": {},
            "outputs": [
                {
                    "name": "stdout",
                    "output_type": "stream",
                    "text": "DT Jaccard index: 0.67\nDT F1-score: 0.54\n"
                }
            ],
            "source": "DT_yhat = DT_model.predict(X_test)\nprint(\"DT Jaccard index: %.2f\" % jaccard_similarity_score(y_test,DT_yhat))\nprint(\"DT F1-score: %.2f\" % f1_score(y_test, DT_yhat, average='weighted') )"
        },
        {
            "cell_type": "markdown",
            "metadata": {},
            "source": "### 3. Support Vector Machine (SVM)\n"
        },
        {
            "cell_type": "code",
            "execution_count": 45,
            "metadata": {},
            "outputs": [
                {
                    "name": "stderr",
                    "output_type": "stream",
                    "text": "/opt/conda/envs/Python36/lib/python3.6/site-packages/sklearn/svm/base.py:196: FutureWarning: The default value of gamma will change from 'auto' to 'scale' in version 0.22 to account better for unscaled features. Set gamma explicitly to 'auto' or 'scale' to avoid this warning.\n  \"avoid this warning.\", FutureWarning)\n"
                }
            ],
            "source": "from sklearn import svm\nSVM_model = svm.SVC()\nSVM_model.fit(X_train, y_train) \n\nSVM_yhat = SVM_model.predict(X_test)\n"
        },
        {
            "cell_type": "code",
            "execution_count": 47,
            "metadata": {},
            "outputs": [
                {
                    "name": "stdout",
                    "output_type": "stream",
                    "text": "SVM Jaccard index: 0.67\nSVM F1-score: 0.54\n"
                }
            ],
            "source": "print(\"SVM Jaccard index: %.2f\" % jaccard_similarity_score(y_test, SVM_yhat))\nprint(\"SVM F1-score: %.2f\" % f1_score(y_test, SVM_yhat, average='weighted'))"
        },
        {
            "cell_type": "markdown",
            "metadata": {},
            "source": "### 4. Logistic Regression"
        },
        {
            "cell_type": "code",
            "execution_count": 49,
            "metadata": {},
            "outputs": [
                {
                    "name": "stderr",
                    "output_type": "stream",
                    "text": "/opt/conda/envs/Python36/lib/python3.6/site-packages/sklearn/linear_model/logistic.py:433: FutureWarning: Default solver will be changed to 'lbfgs' in 0.22. Specify a solver to silence this warning.\n  FutureWarning)\n"
                }
            ],
            "source": "from sklearn.linear_model import LogisticRegression\nLR_model = LogisticRegression(C=0.01).fit(X_train,y_train)\n \nLR_yhat = LR_model.predict(X_test)"
        },
        {
            "cell_type": "code",
            "execution_count": 50,
            "metadata": {},
            "outputs": [
                {
                    "name": "stdout",
                    "output_type": "stream",
                    "text": "LR Jaccard index: 0.67\nLR F1-score: 0.54\nLR LogLoss: 0.62\n"
                },
                {
                    "name": "stderr",
                    "output_type": "stream",
                    "text": "/opt/conda/envs/Python36/lib/python3.6/site-packages/sklearn/metrics/classification.py:1143: UndefinedMetricWarning: F-score is ill-defined and being set to 0.0 in labels with no predicted samples.\n  'precision', 'predicted', average, warn_for)\n"
                }
            ],
            "source": "LR_yhat = LR_model.predict(X_test)\nLR_yhat_prob = LR_model.predict_proba(X_test)\nprint(\"LR Jaccard index: %.2f\" % jaccard_similarity_score(y_test, LR_yhat))\nprint(\"LR F1-score: %.2f\" % f1_score(y_test, LR_yhat, average='weighted') )\nprint(\"LR LogLoss: %.2f\" % log_loss(y_test, LR_yhat_prob))"
        },
        {
            "cell_type": "code",
            "execution_count": null,
            "metadata": {},
            "outputs": [],
            "source": ""
        }
    ],
    "metadata": {
        "kernelspec": {
            "display_name": "Python 3.6",
            "language": "python",
            "name": "python3"
        },
        "language_info": {
            "codemirror_mode": {
                "name": "ipython",
                "version": 3
            },
            "file_extension": ".py",
            "mimetype": "text/x-python",
            "name": "python",
            "nbconvert_exporter": "python",
            "pygments_lexer": "ipython3",
            "version": "3.6.9"
        }
    },
    "nbformat": 4,
    "nbformat_minor": 1
}